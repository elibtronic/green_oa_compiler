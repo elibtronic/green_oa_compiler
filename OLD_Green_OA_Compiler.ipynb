{
  "nbformat": 4,
  "nbformat_minor": 0,
  "metadata": {
    "colab": {
      "provenance": [],
      "authorship_tag": "ABX9TyPgcN4qn1LClWXkOIJ0LD+1"
    },
    "kernelspec": {
      "name": "python3",
      "display_name": "Python 3"
    },
    "language_info": {
      "name": "python"
    }
  },
  "cells": [
    {
      "cell_type": "markdown",
      "source": [
        "# Green OA Compiler\n",
        "\n",
        "Will build dataframe of ORCID and DOI of journal articles published from a date onward. Will need ORCID API key and secret to work. Saves as CSV files that should be added to GH [repository](https://github.com/elibtronic/green_oa_compiler/). Any further analysis goes on in [Analysis](https://colab.research.google.com/drive/1zXmJZbwI8q5Ob5Pwcsx-3pIyhhSwpXNT#scrollTo=lXJDNI-cej1E) notebook.\n",
        "\n",
        "No modification to the data in this notebook! Just pulling it down and exporting it."
      ],
      "metadata": {
        "id": "HiR_m_KiZxMw"
      }
    },
    {
      "cell_type": "code",
      "execution_count": null,
      "metadata": {
        "id": "NxmrVOhdZcpF",
        "colab": {
          "base_uri": "https://localhost:8080/"
        },
        "outputId": "12c7a15b-334a-467f-c657-e229a745abe8"
      },
      "outputs": [
        {
          "output_type": "stream",
          "name": "stdout",
          "text": [
            "Requirement already satisfied: orcid in /usr/local/lib/python3.11/dist-packages (1.0.3)\n",
            "Requirement already satisfied: html5lib in /usr/local/lib/python3.11/dist-packages (from orcid) (1.1)\n",
            "Requirement already satisfied: beautifulsoup4 in /usr/local/lib/python3.11/dist-packages (from orcid) (4.13.4)\n",
            "Requirement already satisfied: requests in /usr/local/lib/python3.11/dist-packages (from orcid) (2.32.3)\n",
            "Requirement already satisfied: simplejson in /usr/local/lib/python3.11/dist-packages (from orcid) (3.20.1)\n",
            "Requirement already satisfied: lxml in /usr/local/lib/python3.11/dist-packages (from orcid) (5.4.0)\n",
            "Requirement already satisfied: soupsieve>1.2 in /usr/local/lib/python3.11/dist-packages (from beautifulsoup4->orcid) (2.7)\n",
            "Requirement already satisfied: typing-extensions>=4.0.0 in /usr/local/lib/python3.11/dist-packages (from beautifulsoup4->orcid) (4.14.1)\n",
            "Requirement already satisfied: six>=1.9 in /usr/local/lib/python3.11/dist-packages (from html5lib->orcid) (1.17.0)\n",
            "Requirement already satisfied: webencodings in /usr/local/lib/python3.11/dist-packages (from html5lib->orcid) (0.5.1)\n",
            "Requirement already satisfied: charset-normalizer<4,>=2 in /usr/local/lib/python3.11/dist-packages (from requests->orcid) (3.4.2)\n",
            "Requirement already satisfied: idna<4,>=2.5 in /usr/local/lib/python3.11/dist-packages (from requests->orcid) (3.10)\n",
            "Requirement already satisfied: urllib3<3,>=1.21.1 in /usr/local/lib/python3.11/dist-packages (from requests->orcid) (2.4.0)\n",
            "Requirement already satisfied: certifi>=2017.4.17 in /usr/local/lib/python3.11/dist-packages (from requests->orcid) (2025.7.14)\n",
            "Requirement already satisfied: crossrefapi in /usr/local/lib/python3.11/dist-packages (1.7.0)\n",
            "Requirement already satisfied: ipython<9.0.0,>=8.28.0 in /usr/local/lib/python3.11/dist-packages (from crossrefapi) (8.37.0)\n",
            "Requirement already satisfied: requests<3.0.0,>=2.32.3 in /usr/local/lib/python3.11/dist-packages (from crossrefapi) (2.32.3)\n",
            "Requirement already satisfied: urllib3<3.0.0,>=2.2.3 in /usr/local/lib/python3.11/dist-packages (from crossrefapi) (2.4.0)\n",
            "Requirement already satisfied: decorator in /usr/local/lib/python3.11/dist-packages (from ipython<9.0.0,>=8.28.0->crossrefapi) (4.4.2)\n",
            "Requirement already satisfied: jedi>=0.16 in /usr/local/lib/python3.11/dist-packages (from ipython<9.0.0,>=8.28.0->crossrefapi) (0.19.2)\n",
            "Requirement already satisfied: matplotlib-inline in /usr/local/lib/python3.11/dist-packages (from ipython<9.0.0,>=8.28.0->crossrefapi) (0.1.7)\n",
            "Requirement already satisfied: pexpect>4.3 in /usr/local/lib/python3.11/dist-packages (from ipython<9.0.0,>=8.28.0->crossrefapi) (4.9.0)\n",
            "Requirement already satisfied: prompt_toolkit<3.1.0,>=3.0.41 in /usr/local/lib/python3.11/dist-packages (from ipython<9.0.0,>=8.28.0->crossrefapi) (3.0.51)\n",
            "Requirement already satisfied: pygments>=2.4.0 in /usr/local/lib/python3.11/dist-packages (from ipython<9.0.0,>=8.28.0->crossrefapi) (2.19.2)\n",
            "Requirement already satisfied: stack_data in /usr/local/lib/python3.11/dist-packages (from ipython<9.0.0,>=8.28.0->crossrefapi) (0.6.3)\n",
            "Requirement already satisfied: traitlets>=5.13.0 in /usr/local/lib/python3.11/dist-packages (from ipython<9.0.0,>=8.28.0->crossrefapi) (5.14.3)\n",
            "Requirement already satisfied: typing_extensions>=4.6 in /usr/local/lib/python3.11/dist-packages (from ipython<9.0.0,>=8.28.0->crossrefapi) (4.14.1)\n",
            "Requirement already satisfied: charset-normalizer<4,>=2 in /usr/local/lib/python3.11/dist-packages (from requests<3.0.0,>=2.32.3->crossrefapi) (3.4.2)\n",
            "Requirement already satisfied: idna<4,>=2.5 in /usr/local/lib/python3.11/dist-packages (from requests<3.0.0,>=2.32.3->crossrefapi) (3.10)\n",
            "Requirement already satisfied: certifi>=2017.4.17 in /usr/local/lib/python3.11/dist-packages (from requests<3.0.0,>=2.32.3->crossrefapi) (2025.7.14)\n",
            "Requirement already satisfied: parso<0.9.0,>=0.8.4 in /usr/local/lib/python3.11/dist-packages (from jedi>=0.16->ipython<9.0.0,>=8.28.0->crossrefapi) (0.8.4)\n",
            "Requirement already satisfied: ptyprocess>=0.5 in /usr/local/lib/python3.11/dist-packages (from pexpect>4.3->ipython<9.0.0,>=8.28.0->crossrefapi) (0.7.0)\n",
            "Requirement already satisfied: wcwidth in /usr/local/lib/python3.11/dist-packages (from prompt_toolkit<3.1.0,>=3.0.41->ipython<9.0.0,>=8.28.0->crossrefapi) (0.2.13)\n",
            "Requirement already satisfied: executing>=1.2.0 in /usr/local/lib/python3.11/dist-packages (from stack_data->ipython<9.0.0,>=8.28.0->crossrefapi) (2.2.0)\n",
            "Requirement already satisfied: asttokens>=2.1.0 in /usr/local/lib/python3.11/dist-packages (from stack_data->ipython<9.0.0,>=8.28.0->crossrefapi) (3.0.0)\n",
            "Requirement already satisfied: pure-eval in /usr/local/lib/python3.11/dist-packages (from stack_data->ipython<9.0.0,>=8.28.0->crossrefapi) (0.2.3)\n",
            "\n",
            "Ready to proceed!\n"
          ]
        }
      ],
      "source": [
        "!pip install orcid\n",
        "!pip install crossrefapi\n",
        "\n",
        "import requests\n",
        "import json\n",
        "import orcid\n",
        "import pprint\n",
        "import pandas as pd\n",
        "\n",
        "import matplotlib.pyplot as plt\n",
        "%matplotlib inline\n",
        "\n",
        "from crossref.restful import Works\n",
        "from google.colab import files\n",
        "from datetime import datetime\n",
        "\n",
        "pd.set_option('display.max_rows', None)\n",
        "\n",
        "print(\"\\nReady to proceed!\")"
      ]
    },
    {
      "cell_type": "code",
      "source": [
        "# @title ORCID List Creation Parameters {\"vertical-output\":true,\"display-mode\":\"form\"}\n",
        "Client_ID = \"\" # @param {\"type\":\"string\"}\n",
        "Client_Secret = \"\" # @param {\"type\":\"string\"}\n",
        "\n",
        "# @markdown Affiliation search string\n",
        "\n",
        "s_query = \"current-institution-affiliation-name:(\\\"Brock University\\\")\"#@param {type:\"string\"}\n",
        "\n",
        "\n",
        "# @markdown Date to start harvest from?\n",
        "Start_Date = \"2025-01-01\" # @param {\"type\":\"date\"}\n",
        "s_date = datetime.strptime(Start_Date, '%Y-%m-%d')\n",
        "\n",
        "\n",
        "# @markdown Refresh list of ORCIDs?\n",
        "refresh_orcid = False # @param {\"type\":\"boolean\",\"placeholder\":\"True\"}\n",
        "\n",
        "api = orcid.PublicAPI(Client_ID, Client_Secret, sandbox=False)\n",
        "search_token = api.get_search_token_from_orcid()\n",
        "\n",
        "print(\"Options set and API connections completed!\")"
      ],
      "metadata": {
        "colab": {
          "base_uri": "https://localhost:8080/"
        },
        "id": "H4-3R3mrqqw3",
        "outputId": "fffbe1e3-79ca-4905-d608-0e1d293f5257"
      },
      "execution_count": null,
      "outputs": [
        {
          "output_type": "stream",
          "name": "stdout",
          "text": [
            "Options set and API connections completed!\n"
          ]
        }
      ]
    },
    {
      "cell_type": "code",
      "source": [
        "b_members = []\n",
        "\n",
        "if refresh_orcid == True:\n",
        "  #Build a dictionary of ORCIDs currently affiliated with Brock\n",
        "  #Also need to check verified email that is with brocku.ca\n",
        "\n",
        "  search_results = api.search_generator(s_query, access_token=search_token)\n",
        "\n",
        "  for page in search_results:\n",
        "    b_members.append(page['orcid-identifier']['path'])\n",
        "else:\n",
        "  b_members_df = pd.read_csv(\"https://github.com/elibtronic/green_oa_compiler/raw/refs/heads/main/ORCID_List.csv\")\n",
        "  b_members = b_members_df['ORCID'].tolist()\n",
        "\n",
        "print(\"ORCID API list constructed\")"
      ],
      "metadata": {
        "id": "fvLhUAgLfW0B",
        "colab": {
          "base_uri": "https://localhost:8080/"
        },
        "outputId": "dc1a926b-cded-49e0-e1db-582a7cac777e"
      },
      "execution_count": null,
      "outputs": [
        {
          "output_type": "stream",
          "name": "stdout",
          "text": [
            "ORCID API list constructed\n"
          ]
        }
      ]
    },
    {
      "cell_type": "code",
      "source": [
        "harvested_j_works = []\n",
        "works = Works()\n",
        "#check for most recent pub date of items associated with that orcid\n",
        "#extract some metadata for that, doi, title, journal, etc.\n",
        "#created a df with orcid of person and doi etc\n",
        "\n",
        "print(\"Retrieving works from \",len(b_members),\" ORCID records\")\n",
        "prog = 0\n",
        "for b_orcid in b_members:\n",
        "\n",
        "  if prog % 50 == 0:\n",
        "    print(str(prog)+\"..\", end = \"\")\n",
        "  if prog % 500 == 0:\n",
        "    print(\"\\n\")\n",
        "  prog += 1\n",
        "\n",
        "  works_list = api.read_record_public(b_orcid, 'works',search_token)\n",
        "  for w in works_list['group']:\n",
        "\n",
        "    date_work = datetime.fromtimestamp(w['last-modified-date']['value'] / 1000)\n",
        "    if date_work >= s_date:\n",
        "      for ws in w.get(\"work-summary\"):\n",
        "        if ws.get('type') == 'JOURNAL_ARTICLE':\n",
        "          eids = ws.get('external-ids')\n",
        "          for e in eids['external-id']:\n",
        "\n",
        "            if e.get('external-id-type') == 'doi':\n",
        "              doi =  e.get('external-id-value')\n",
        "              item = works.doi(doi)\n",
        "              try:\n",
        "                license_url = item['license'][0]['URL']\n",
        "              except:\n",
        "                license_url = \"No URL retrieved\"\n",
        "\n",
        "              try:\n",
        "                issn = item['ISSN'][0]\n",
        "              except:\n",
        "                issn = \"No ISSN found\"\n",
        "\n",
        "              harvested_j_works.append([b_orcid,doi,issn,license_url])\n",
        "  print(\"Done harvesting.\")\n"
      ],
      "metadata": {
        "id": "Sq6Ao0lal2_T",
        "colab": {
          "base_uri": "https://localhost:8080/"
        },
        "outputId": "b5c15dd7-6cfd-4cf0-d170-a0bcde788b63"
      },
      "execution_count": null,
      "outputs": [
        {
          "output_type": "stream",
          "name": "stdout",
          "text": [
            "Retriving works from  785  ORCID records\n",
            "0..10..20..30..40..50..60..70..80..90..100..110..120..130..140..150..160..170..180..190..200..210..220..230..240..250..260..270..280..290..300..310..320..330..340..350..360..370..380..390..400..410..420..430..440..450..460..470..480..490..500..510..520..530..540..550..560..570..580..590..600..610..620..630..640..650..660..670..680..690..700..710..720..730..740..750..760..770..780.."
          ]
        }
      ]
    },
    {
      "cell_type": "code",
      "source": [
        "#Turn retrieved info into Dataframe and display\n",
        "df = pd.DataFrame(harvested_j_works)\n",
        "df.columns = ['ORCID',\"DOI\",\"issn\",\"LICENSE_URL\"]\n",
        "df.drop_duplicates(subset=['DOI'],inplace=True)\n",
        "df.reset_index(drop=True,inplace=True)\n",
        "\n",
        "df.sample(10)"
      ],
      "metadata": {
        "id": "5TLGDXEH008Y"
      },
      "execution_count": null,
      "outputs": []
    },
    {
      "cell_type": "markdown",
      "source": [
        "\n",
        "# Export data"
      ],
      "metadata": {
        "id": "JTHOH5D4uQAv"
      }
    },
    {
      "cell_type": "code",
      "source": [
        "#DOI data as CSV\n",
        "csv_file_name = \"Brock_ORCID_Harvest_Start_Date_\"+str(Start_Date)+\"_to_\"+datetime.today().strftime('%Y-%m-%d')+\".csv\"\n",
        "print(\"Saving to file: \"+csv_file_name)\n",
        "df.to_csv(csv_file_name)\n",
        "files.download(csv_file_name)\n",
        "\n",
        "# Current ORCID list to csv\n",
        "b_members_df = pd.DataFrame(b_members)\n",
        "b_members_df.columns = ['ORCID']\n",
        "b_members_df.to_csv(\"ORCID_List.csv\",index=False)\n",
        "files.download(\"ORCID_List.csv\")\n"
      ],
      "metadata": {
        "colab": {
          "base_uri": "https://localhost:8080/",
          "height": 36
        },
        "id": "gssznVwE2JHk",
        "outputId": "80424e83-9b9f-407e-8bab-74c42558f084"
      },
      "execution_count": null,
      "outputs": [
        {
          "output_type": "stream",
          "name": "stdout",
          "text": [
            "Saving to file: Brock_ORCID_Harvest_Start_Date_2025-01-01_to_2025-07-21.csv\n"
          ]
        },
        {
          "output_type": "display_data",
          "data": {
            "text/plain": [
              "<IPython.core.display.Javascript object>"
            ],
            "application/javascript": [
              "\n",
              "    async function download(id, filename, size) {\n",
              "      if (!google.colab.kernel.accessAllowed) {\n",
              "        return;\n",
              "      }\n",
              "      const div = document.createElement('div');\n",
              "      const label = document.createElement('label');\n",
              "      label.textContent = `Downloading \"${filename}\": `;\n",
              "      div.appendChild(label);\n",
              "      const progress = document.createElement('progress');\n",
              "      progress.max = size;\n",
              "      div.appendChild(progress);\n",
              "      document.body.appendChild(div);\n",
              "\n",
              "      const buffers = [];\n",
              "      let downloaded = 0;\n",
              "\n",
              "      const channel = await google.colab.kernel.comms.open(id);\n",
              "      // Send a message to notify the kernel that we're ready.\n",
              "      channel.send({})\n",
              "\n",
              "      for await (const message of channel.messages) {\n",
              "        // Send a message to notify the kernel that we're ready.\n",
              "        channel.send({})\n",
              "        if (message.buffers) {\n",
              "          for (const buffer of message.buffers) {\n",
              "            buffers.push(buffer);\n",
              "            downloaded += buffer.byteLength;\n",
              "            progress.value = downloaded;\n",
              "          }\n",
              "        }\n",
              "      }\n",
              "      const blob = new Blob(buffers, {type: 'application/binary'});\n",
              "      const a = document.createElement('a');\n",
              "      a.href = window.URL.createObjectURL(blob);\n",
              "      a.download = filename;\n",
              "      div.appendChild(a);\n",
              "      a.click();\n",
              "      div.remove();\n",
              "    }\n",
              "  "
            ]
          },
          "metadata": {}
        },
        {
          "output_type": "display_data",
          "data": {
            "text/plain": [
              "<IPython.core.display.Javascript object>"
            ],
            "application/javascript": [
              "download(\"download_e07a98cf-af49-4e30-a645-ed54068565d6\", \"Brock_ORCID_Harvest_Start_Date_2025-01-01_to_2025-07-21.csv\", 83085)"
            ]
          },
          "metadata": {}
        }
      ]
    }
  ]
}