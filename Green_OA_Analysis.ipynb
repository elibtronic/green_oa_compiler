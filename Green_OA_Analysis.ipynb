{
  "nbformat": 4,
  "nbformat_minor": 0,
  "metadata": {
    "colab": {
      "provenance": [],
      "authorship_tag": "ABX9TyPii5HL3EjvK9WyOyKVH+Ng"
    },
    "kernelspec": {
      "name": "python3",
      "display_name": "Python 3"
    },
    "language_info": {
      "name": "python"
    }
  },
  "cells": [
    {
      "cell_type": "markdown",
      "source": [
        "# Green OA Dataset Analysis\n",
        "\n",
        "\n",
        "Now with a fully constructed CSV file can see what we are up against."
      ],
      "metadata": {
        "id": "hYZ4aYgTQFG3"
      }
    }
  ]
}